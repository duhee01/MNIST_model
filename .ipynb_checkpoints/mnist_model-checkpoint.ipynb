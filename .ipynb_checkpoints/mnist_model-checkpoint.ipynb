{
 "cells": [
  {
   "cell_type": "code",
   "execution_count": 27,
   "id": "02c38536",
   "metadata": {},
   "outputs": [],
   "source": [
    "import tensorflow as tf"
   ]
  },
  {
   "cell_type": "code",
   "execution_count": 28,
   "id": "f8fbc6e3",
   "metadata": {},
   "outputs": [],
   "source": [
    "batch_size = 128\n",
    "num_classes = 10 #숫자 10가지\n",
    "epochs = 100"
   ]
  },
  {
   "cell_type": "code",
   "execution_count": 29,
   "id": "35f933fe",
   "metadata": {},
   "outputs": [],
   "source": [
    "mnist = tf.keras.datasets.mnist\n",
    "(x_train, y_train), (x_test, y_test) = mnist.load_data()\n",
    "#print(x_train[0])\n",
    "#print(y_train[0]) - y_train은 결과값\n",
    "x_train, x_test = x_train / 255.0, x_test / 255.0\n",
    "#print(x_train[0])\n",
    "#0부터 255값들을 나눠서 1보다 작은 값들을 실수로 출력"
   ]
  },
  {
   "cell_type": "code",
   "execution_count": 30,
   "id": "b9fba993",
   "metadata": {},
   "outputs": [
    {
     "name": "stdout",
     "output_type": "stream",
     "text": [
      "x_train.shape (60000, 28, 28)\n",
      "60000 train samples\n",
      "10000 test samples\n"
     ]
    }
   ],
   "source": [
    "print('x_train.shape', x_train.shape) #가로세로 28\n",
    "print(x_train.shape[0], 'train samples') #6만개의 trian\n",
    "print(x_test.shape[0], 'test samples') #1만개의 test"
   ]
  },
  {
   "cell_type": "code",
   "execution_count": 31,
   "id": "c74ccc76",
   "metadata": {},
   "outputs": [
    {
     "name": "stdout",
     "output_type": "stream",
     "text": [
      "[0. 0. 0. 0. 0. 1. 0. 0. 0. 0.]\n"
     ]
    }
   ],
   "source": [
    "y_train = tf.keras.utils.to_categorical(y_train, num_classes)\n",
    "#one hot 구조로 되어있음.\n",
    "y_test =  tf.keras.utils.to_categorical(y_test, num_classes)\n",
    "#print(y_train[0])-1과 0으로 이진으로 표현되어있음."
   ]
  },
  {
   "cell_type": "code",
   "execution_count": 32,
   "id": "15561225",
   "metadata": {},
   "outputs": [],
   "source": [
    "model = tf.keras.models.Sequential([\n",
    "    tf.keras.layers.Flatten(input_shape=(28,28)),\n",
    "    tf.keras.layers.Dense(128, activation = 'relu'),\n",
    "    tf.keras.layers.Dropout(0.2),\n",
    "    tf.keras.layers.Dense(num_classes, activation='softmax')\n",
    "])"
   ]
  },
  {
   "cell_type": "code",
   "execution_count": 40,
   "id": "d4a134ad",
   "metadata": {},
   "outputs": [],
   "source": [
    "model.compile(optimizer = 'adam',\n",
    "             loss = 'categorical_crossentropy',\n",
    "             metrics = ['accuracy'])"
   ]
  },
  {
   "cell_type": "code",
   "execution_count": 41,
   "id": "92d31877",
   "metadata": {},
   "outputs": [],
   "source": [
    "modelCheckpoint = tf.keras.callbacks.ModelCheckpoint('digits_model.h5', save_best_only=True)\n",
    "#digits~이름으로 체크포인트 저장함.\n",
    "monitor_val_lose  = tf.keras.callbacks.EarlyStopping(monitor='val_loss',\n",
    "                                                  patience=5)#5번만 참고 stop"
   ]
  },
  {
   "cell_type": "code",
   "execution_count": 42,
   "id": "f4d30499",
   "metadata": {},
   "outputs": [
    {
     "name": "stdout",
     "output_type": "stream",
     "text": [
      "Epoch 1/100\n",
      "469/469 [==============================] - 4s 6ms/step - loss: 0.3991 - accuracy: 0.8859 - val_loss: 0.1928 - val_accuracy: 0.9443\n",
      "Epoch 2/100\n",
      "469/469 [==============================] - 2s 4ms/step - loss: 0.1895 - accuracy: 0.9453 - val_loss: 0.1333 - val_accuracy: 0.9611\n",
      "Epoch 3/100\n",
      "469/469 [==============================] - 2s 4ms/step - loss: 0.1413 - accuracy: 0.9591 - val_loss: 0.1123 - val_accuracy: 0.9671\n",
      "Epoch 4/100\n",
      "469/469 [==============================] - 2s 4ms/step - loss: 0.1172 - accuracy: 0.9664 - val_loss: 0.0936 - val_accuracy: 0.9732\n",
      "Epoch 5/100\n",
      "469/469 [==============================] - 2s 4ms/step - loss: 0.0993 - accuracy: 0.9707 - val_loss: 0.0839 - val_accuracy: 0.9743\n",
      "Epoch 6/100\n",
      "469/469 [==============================] - 2s 4ms/step - loss: 0.0875 - accuracy: 0.9736 - val_loss: 0.0804 - val_accuracy: 0.9755\n",
      "Epoch 7/100\n",
      "469/469 [==============================] - 2s 4ms/step - loss: 0.0762 - accuracy: 0.9766 - val_loss: 0.0769 - val_accuracy: 0.9759\n",
      "Epoch 8/100\n",
      "469/469 [==============================] - 2s 4ms/step - loss: 0.0704 - accuracy: 0.9785 - val_loss: 0.0710 - val_accuracy: 0.9794\n",
      "Epoch 9/100\n",
      "469/469 [==============================] - 2s 4ms/step - loss: 0.0623 - accuracy: 0.9810 - val_loss: 0.0677 - val_accuracy: 0.9795\n",
      "Epoch 10/100\n",
      "469/469 [==============================] - 2s 4ms/step - loss: 0.0577 - accuracy: 0.9823 - val_loss: 0.0694 - val_accuracy: 0.9790\n",
      "Epoch 11/100\n",
      "469/469 [==============================] - 2s 4ms/step - loss: 0.0524 - accuracy: 0.9841 - val_loss: 0.0683 - val_accuracy: 0.9797\n",
      "Epoch 12/100\n",
      "469/469 [==============================] - 2s 4ms/step - loss: 0.0487 - accuracy: 0.9847 - val_loss: 0.0690 - val_accuracy: 0.9792\n",
      "Epoch 13/100\n",
      "469/469 [==============================] - 2s 4ms/step - loss: 0.0447 - accuracy: 0.9858 - val_loss: 0.0670 - val_accuracy: 0.9808\n",
      "Epoch 14/100\n",
      "469/469 [==============================] - 2s 4ms/step - loss: 0.0408 - accuracy: 0.9876 - val_loss: 0.0648 - val_accuracy: 0.9805\n",
      "Epoch 15/100\n",
      "469/469 [==============================] - 2s 4ms/step - loss: 0.0402 - accuracy: 0.9871 - val_loss: 0.0635 - val_accuracy: 0.9801\n",
      "Epoch 16/100\n",
      "469/469 [==============================] - 2s 4ms/step - loss: 0.0375 - accuracy: 0.9876 - val_loss: 0.0669 - val_accuracy: 0.9800\n",
      "Epoch 17/100\n",
      "469/469 [==============================] - 2s 4ms/step - loss: 0.0342 - accuracy: 0.9890 - val_loss: 0.0681 - val_accuracy: 0.9804\n",
      "Epoch 18/100\n",
      "469/469 [==============================] - 2s 4ms/step - loss: 0.0328 - accuracy: 0.9896 - val_loss: 0.0681 - val_accuracy: 0.9816\n",
      "Epoch 19/100\n",
      "469/469 [==============================] - 2s 4ms/step - loss: 0.0305 - accuracy: 0.9904 - val_loss: 0.0665 - val_accuracy: 0.9804\n",
      "Epoch 20/100\n",
      "469/469 [==============================] - 2s 4ms/step - loss: 0.0295 - accuracy: 0.9900 - val_loss: 0.0733 - val_accuracy: 0.9803\n"
     ]
    }
   ],
   "source": [
    "history = model.fit(x_train,y_train,\n",
    "                    validation_data=(x_test,y_test),\n",
    "                    epochs=epochs, batch_size=batch_size,\n",
    "                    callbacks=[monitor_val_lose,modelCheckpoint])"
   ]
  },
  {
   "cell_type": "code",
   "execution_count": null,
   "id": "bd54c08f",
   "metadata": {},
   "outputs": [],
   "source": []
  }
 ],
 "metadata": {
  "kernelspec": {
   "display_name": "Python 3",
   "language": "python",
   "name": "python3"
  },
  "language_info": {
   "codemirror_mode": {
    "name": "ipython",
    "version": 3
   },
   "file_extension": ".py",
   "mimetype": "text/x-python",
   "name": "python",
   "nbconvert_exporter": "python",
   "pygments_lexer": "ipython3",
   "version": "3.8.8"
  }
 },
 "nbformat": 4,
 "nbformat_minor": 5
}
